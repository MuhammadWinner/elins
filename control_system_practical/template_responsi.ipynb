{
  "cells": [
    {
      "cell_type": "code",
      "execution_count": null,
      "metadata": {
        "id": "2cbJrTtATjFK"
      },
      "outputs": [],
      "source": [
        "# Library yang digunakan (pastikan sudah terinstall):\n",
        "import numpy as np\n",
        "import matplotlib.pyplot as plt\n",
        "from scipy.signal import lti, step\n",
        "import control as ctrl"
      ]
    },
    {
      "cell_type": "markdown",
      "metadata": {
        "id": "ieD9AjzgVRIg"
      },
      "source": [
        "# RLC Circuit without Feedback"
      ]
    },
    {
      "cell_type": "markdown",
      "metadata": {
        "id": "xk_lujbfSEjc"
      },
      "source": [
        "## Openloop Transfer Function\n",
        "$$G(s)=\\frac{V_c(s)}{V_{in}(s)}=\\frac{1}{LCs^2+RCs+1}$$\n",
        "$$G(s)=\\frac{\\omega_n^2}{s^2+2\\zeta\\omega_ns+\\omega_n^2}$$\n",
        "with:\n",
        "* Natural frequency $\\omega_n$\n",
        "* damping ration $\\zeta$"
      ]
    },
    {
      "cell_type": "markdown",
      "metadata": {
        "id": "CdX3Gz_VU7so"
      },
      "source": [
        "## Variasi Nilai\n",
        "* natural frequency: $\\omega_n^2=\\frac{1}{LC}$\n",
        "* damping ratio: $\\zeta=\\frac{R}{2\\sqrt{\\frac{L}{C}}}$"
      ]
    },
    {
      "cell_type": "code",
      "execution_count": null,
      "metadata": {
        "id": "SHcMxI3pUYlx"
      },
      "outputs": [],
      "source": [
        "# Masukkan variasi nilai untuk R, L, dan C\n",
        "R = ... # Ohms\n",
        "L = ... # Henry\n",
        "C = ... # Farad"
      ]
    },
    {
      "cell_type": "code",
      "execution_count": null,
      "metadata": {
        "colab": {
          "base_uri": "https://localhost:8080/",
          "height": 508
        },
        "id": "9SRZx5v5SBrv",
        "outputId": "b1c52b8a-cf6c-407e-e0a1-89b833b4b4e1"
      },
      "outputs": [],
      "source": [
        "# Buat transfer function dan step response untuk rangkaian RLC seri\n",
        "(jawaban Anda)\n",
        "\n",
        "\n",
        "# Hitung natural frequency and damping ratio\n",
        "(jawaban Anda)\n",
        "\n",
        "\n",
        "# Plot step response (waktu terhadap tegangan kapasitor)\n",
        "(jawaban Anda)\n",
        "\n",
        "\n",
        "# Buat analisis Root Locus Untuk Sistem"
      ]
    }
  ],
  "metadata": {
    "colab": {
      "provenance": []
    },
    "kernelspec": {
      "display_name": "kuliah_env",
      "language": "python",
      "name": "python3"
    },
    "language_info": {
      "codemirror_mode": {
        "name": "ipython",
        "version": 3
      },
      "file_extension": ".py",
      "mimetype": "text/x-python",
      "name": "python",
      "nbconvert_exporter": "python",
      "pygments_lexer": "ipython3",
      "version": "3.10.16"
    }
  },
  "nbformat": 4,
  "nbformat_minor": 0
}
